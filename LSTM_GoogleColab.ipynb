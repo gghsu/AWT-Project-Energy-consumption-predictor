{
  "nbformat": 4,
  "nbformat_minor": 0,
  "metadata": {
    "colab": {
      "provenance": [],
      "gpuType": "T4"
    },
    "kernelspec": {
      "name": "python3",
      "display_name": "Python 3"
    },
    "language_info": {
      "name": "python"
    },
    "accelerator": "GPU"
  },
  "cells": [
    {
      "cell_type": "code",
      "source": [
        "!pip install scikeras\n",
        "!pip uninstall -y scikit-learn\n",
        "!pip install scikit-learn==1.2.2"
      ],
      "metadata": {
        "colab": {
          "base_uri": "https://localhost:8080/"
        },
        "id": "VpwOVT5mKNB8",
        "outputId": "ca71d270-b695-43d1-98c7-91733df88703"
      },
      "execution_count": null,
      "outputs": [
        {
          "output_type": "stream",
          "name": "stdout",
          "text": [
            "Requirement already satisfied: scikeras in /usr/local/lib/python3.11/dist-packages (0.13.0)\n",
            "Requirement already satisfied: keras>=3.2.0 in /usr/local/lib/python3.11/dist-packages (from scikeras) (3.8.0)\n",
            "Collecting scikit-learn>=1.4.2 (from scikeras)\n",
            "  Downloading scikit_learn-1.6.1-cp311-cp311-manylinux_2_17_x86_64.manylinux2014_x86_64.whl.metadata (18 kB)\n",
            "Requirement already satisfied: absl-py in /usr/local/lib/python3.11/dist-packages (from keras>=3.2.0->scikeras) (1.4.0)\n",
            "Requirement already satisfied: numpy in /usr/local/lib/python3.11/dist-packages (from keras>=3.2.0->scikeras) (1.26.4)\n",
            "Requirement already satisfied: rich in /usr/local/lib/python3.11/dist-packages (from keras>=3.2.0->scikeras) (13.9.4)\n",
            "Requirement already satisfied: namex in /usr/local/lib/python3.11/dist-packages (from keras>=3.2.0->scikeras) (0.0.8)\n",
            "Requirement already satisfied: h5py in /usr/local/lib/python3.11/dist-packages (from keras>=3.2.0->scikeras) (3.12.1)\n",
            "Requirement already satisfied: optree in /usr/local/lib/python3.11/dist-packages (from keras>=3.2.0->scikeras) (0.14.0)\n",
            "Requirement already satisfied: ml-dtypes in /usr/local/lib/python3.11/dist-packages (from keras>=3.2.0->scikeras) (0.4.1)\n",
            "Requirement already satisfied: packaging in /usr/local/lib/python3.11/dist-packages (from keras>=3.2.0->scikeras) (24.2)\n",
            "Requirement already satisfied: scipy>=1.6.0 in /usr/local/lib/python3.11/dist-packages (from scikit-learn>=1.4.2->scikeras) (1.13.1)\n",
            "Requirement already satisfied: joblib>=1.2.0 in /usr/local/lib/python3.11/dist-packages (from scikit-learn>=1.4.2->scikeras) (1.4.2)\n",
            "Requirement already satisfied: threadpoolctl>=3.1.0 in /usr/local/lib/python3.11/dist-packages (from scikit-learn>=1.4.2->scikeras) (3.5.0)\n",
            "Requirement already satisfied: typing-extensions>=4.5.0 in /usr/local/lib/python3.11/dist-packages (from optree->keras>=3.2.0->scikeras) (4.12.2)\n",
            "Requirement already satisfied: markdown-it-py>=2.2.0 in /usr/local/lib/python3.11/dist-packages (from rich->keras>=3.2.0->scikeras) (3.0.0)\n",
            "Requirement already satisfied: pygments<3.0.0,>=2.13.0 in /usr/local/lib/python3.11/dist-packages (from rich->keras>=3.2.0->scikeras) (2.18.0)\n",
            "Requirement already satisfied: mdurl~=0.1 in /usr/local/lib/python3.11/dist-packages (from markdown-it-py>=2.2.0->rich->keras>=3.2.0->scikeras) (0.1.2)\n",
            "Downloading scikit_learn-1.6.1-cp311-cp311-manylinux_2_17_x86_64.manylinux2014_x86_64.whl (13.5 MB)\n",
            "\u001b[2K   \u001b[90m━━━━━━━━━━━━━━━━━━━━━━━━━━━━━━━━━━━━━━━━\u001b[0m \u001b[32m13.5/13.5 MB\u001b[0m \u001b[31m36.3 MB/s\u001b[0m eta \u001b[36m0:00:00\u001b[0m\n",
            "\u001b[?25hInstalling collected packages: scikit-learn\n",
            "  Attempting uninstall: scikit-learn\n",
            "    Found existing installation: scikit-learn 1.2.2\n",
            "    Uninstalling scikit-learn-1.2.2:\n",
            "      Successfully uninstalled scikit-learn-1.2.2\n",
            "Successfully installed scikit-learn-1.6.1\n",
            "Found existing installation: scikit-learn 1.6.1\n",
            "Uninstalling scikit-learn-1.6.1:\n",
            "  Successfully uninstalled scikit-learn-1.6.1\n",
            "Collecting scikit-learn==1.2.2\n",
            "  Using cached scikit_learn-1.2.2-cp311-cp311-manylinux_2_17_x86_64.manylinux2014_x86_64.whl.metadata (11 kB)\n",
            "Requirement already satisfied: numpy>=1.17.3 in /usr/local/lib/python3.11/dist-packages (from scikit-learn==1.2.2) (1.26.4)\n",
            "Requirement already satisfied: scipy>=1.3.2 in /usr/local/lib/python3.11/dist-packages (from scikit-learn==1.2.2) (1.13.1)\n",
            "Requirement already satisfied: joblib>=1.1.1 in /usr/local/lib/python3.11/dist-packages (from scikit-learn==1.2.2) (1.4.2)\n",
            "Requirement already satisfied: threadpoolctl>=2.0.0 in /usr/local/lib/python3.11/dist-packages (from scikit-learn==1.2.2) (3.5.0)\n",
            "Using cached scikit_learn-1.2.2-cp311-cp311-manylinux_2_17_x86_64.manylinux2014_x86_64.whl (9.6 MB)\n",
            "Installing collected packages: scikit-learn\n",
            "\u001b[31mERROR: pip's dependency resolver does not currently take into account all the packages that are installed. This behaviour is the source of the following dependency conflicts.\n",
            "scikeras 0.13.0 requires scikit-learn>=1.4.2, but you have scikit-learn 1.2.2 which is incompatible.\n",
            "imbalanced-learn 0.13.0 requires scikit-learn<2,>=1.3.2, but you have scikit-learn 1.2.2 which is incompatible.\n",
            "mlxtend 0.23.4 requires scikit-learn>=1.3.1, but you have scikit-learn 1.2.2 which is incompatible.\u001b[0m\u001b[31m\n",
            "\u001b[0mSuccessfully installed scikit-learn-1.2.2\n"
          ]
        }
      ]
    },
    {
      "cell_type": "code",
      "execution_count": null,
      "metadata": {
        "id": "iy8H8rSafyik"
      },
      "outputs": [],
      "source": [
        "#!/usr/bin/env python3\n",
        "import numpy as np\n",
        "import pandas as pd\n",
        "import tensorflow as tf\n",
        "from tensorflow import keras\n",
        "from tensorflow.keras.models import Sequential\n",
        "from tensorflow.keras.layers import LSTM, Dense, Dropout\n",
        "from sklearn.metrics import mean_squared_error\n",
        "from sklearn.preprocessing import MinMaxScaler\n",
        "import math\n",
        "from google.colab import drive\n",
        "import matplotlib.pyplot as plt\n",
        "from sklearn.model_selection import GridSearchCV\n",
        "from tensorflow.keras.optimizers import Adam\n",
        "from tensorflow.keras.callbacks import ReduceLROnPlateau\n",
        "from tensorflow.keras.callbacks import EarlyStopping\n",
        "from tensorflow.keras.regularizers import l2\n",
        "from sklearn.model_selection import GridSearchCV\n",
        "from scikeras.wrappers import KerasRegressor"
      ]
    },
    {
      "cell_type": "code",
      "source": [
        "file_path = 'AWT_studentdata_1.csv'\n",
        "print(\"Reading data from\", file_path)\n",
        "drive.mount('/content/drive')\n",
        "data = df = pd.read_csv('/content/drive/My Drive/AWT_studentdata_1.csv')\n",
        "df = pd.DataFrame(data)\n",
        "# Randomly sample 10% of the data\n",
        "#df_sampled = df.sample(frac=0.1, random_state=42)  # Adjust fraction as needed\n",
        "#df = df.sort_values(by='t', ascending=True)\n",
        "#df['t'] = df['t'].astype('datetime64[ns]').astype(int)\n",
        "\n",
        "df['t'] = pd.to_datetime(df['t'])\n",
        "df['hour'] = df['t'].dt.hour\n",
        "df['minute'] = df['t'].dt.minute\n",
        "df['second'] = df['t'].dt.second\n",
        "df['day_of_week'] = df['t'].dt.dayofweek\n",
        "df = df.drop(columns=['t'])  # delete the former t\n",
        "\n",
        "# Encode time as cyclical features\n",
        "#df['hour_sin'] = np.sin(2 * np.pi * df['hour'] / 24)\n",
        "#df['hour_cos'] = np.cos(2 * np.pi * df['hour'] / 24)\n",
        "#df['minute_sin'] = np.sin(2 * np.pi * df['minute'] / 60)\n",
        "#df['minute_cos'] = np.cos(2 * np.pi * df['minute'] / 60)\n",
        "#df['second_sin'] = np.sin(2 * np.pi * df['second'] / 60)\n",
        "#df['second_cos'] = np.cos(2 * np.pi * df['second'] / 60)\n",
        "#df['day_sin'] = np.sin(2 * np.pi * df['day_of_week'] / 7)\n",
        "#df['day_cos'] = np.cos(2 * np.pi * df['day_of_week'] / 7)"
      ],
      "metadata": {
        "colab": {
          "base_uri": "https://localhost:8080/"
        },
        "id": "EswS5zJfMq1b",
        "outputId": "d8969c0e-eaa1-4314-e674-a6a07f4661b6"
      },
      "execution_count": null,
      "outputs": [
        {
          "output_type": "stream",
          "name": "stdout",
          "text": [
            "Reading data from AWT_studentdata_1.csv\n",
            "Drive already mounted at /content/drive; to attempt to forcibly remount, call drive.mount(\"/content/drive\", force_remount=True).\n"
          ]
        }
      ]
    },
    {
      "cell_type": "code",
      "source": [
        "# Ensure that the target column exists\n",
        "if 'gs_consumption_Wh' not in df.columns:\n",
        "    raise ValueError(\"The target column 'gs_consumption_Wh' is not in the dataset.\")"
      ],
      "metadata": {
        "id": "PY6tpAFDNEtA"
      },
      "execution_count": null,
      "outputs": []
    },
    {
      "cell_type": "code",
      "source": [
        "# specify irrelevant columns list\n",
        "irrelevant_columns = [\n",
        "    'streamingSessionID',\n",
        "\n",
        "]\n",
        "features_df = df.drop(columns= irrelevant_columns + ['gs_consumption_Wh'])\n",
        "target_df = df['gs_consumption_Wh']"
      ],
      "metadata": {
        "id": "aLDD085Q7Egt"
      },
      "execution_count": null,
      "outputs": []
    },
    {
      "cell_type": "code",
      "source": [
        "test_split=round(len(df)*0.20)\n",
        "df_train=df[:-test_split]\n",
        "df_test=df[-test_split:]\n",
        "print(df_train.shape)\n",
        "print(df_test.shape)"
      ],
      "metadata": {
        "colab": {
          "base_uri": "https://localhost:8080/"
        },
        "id": "OixFxrp-b0EA",
        "outputId": "173aeffd-6c88-4bc9-fc3b-44e50ec18d4b"
      },
      "execution_count": null,
      "outputs": [
        {
          "output_type": "stream",
          "name": "stdout",
          "text": [
            "(384868, 36)\n",
            "(96217, 36)\n"
          ]
        }
      ]
    },
    {
      "cell_type": "code",
      "source": [
        "feature_scaler = MinMaxScaler(feature_range=(0,1))\n",
        "target_scaler = MinMaxScaler(feature_range=(0,1))\n",
        "#df_train_scaled = scaler.fit_transform(df_train)\n",
        "#df_test_scaled= scaler.transform(df_test)\n",
        "features_scaled = feature_scaler.fit_transform(features_df)\n",
        "target_scaled = target_scaler.fit_transform(target_df.values.reshape(-1, 1))\n",
        "target_scaled"
      ],
      "metadata": {
        "colab": {
          "base_uri": "https://localhost:8080/"
        },
        "id": "-3Ld4qZGcLo3",
        "outputId": "a078746b-7d39-4c6a-8024-a92cb95057f4"
      },
      "execution_count": null,
      "outputs": [
        {
          "output_type": "execute_result",
          "data": {
            "text/plain": [
              "array([[0.27608324],\n",
              "       [0.27608324],\n",
              "       [0.27608324],\n",
              "       ...,\n",
              "       [0.01040479],\n",
              "       [0.01040479],\n",
              "       [0.01040479]])"
            ]
          },
          "metadata": {},
          "execution_count": 8
        }
      ]
    },
    {
      "cell_type": "code",
      "source": [
        "# ---------------------------\n",
        "# Helper function: create sequences\n",
        "# ---------------------------\n",
        "def create_sequences(features, target, seq_length):\n",
        "    X, y = [], []\n",
        "    for i in range(len(features) - seq_length):\n",
        "        X.append(features[i:i+seq_length])\n",
        "        y.append(target[i+seq_length])\n",
        "    return np.array(X), np.array(y)"
      ],
      "metadata": {
        "id": "RE_U7CU79PJa"
      },
      "execution_count": null,
      "outputs": []
    },
    {
      "cell_type": "code",
      "source": [
        "# Create time series sequences.\n",
        "# Define the sequence (window) length. You can adjust this value.\n",
        "seq_length = 10  # e.g., use previous 10 time steps to predict the next one.\n",
        "X, Y = create_sequences(features_scaled, target_scaled, seq_length)\n",
        "print(f\"Total sequences created: {X.shape[0]}\")\n",
        "\n",
        "# Split into training and validation (prediction) sets.\n",
        "# For time series, it is common to use earlier data for training and later data for validation.\n",
        "split_fraction = 0.8  # 80% for training, 20% for validation\n",
        "split_index = int(len(X) * split_fraction)\n",
        "\n",
        "X_train, X_test = X[:split_index], X[split_index:]\n",
        "Y_train, Y_test = Y[:split_index], Y[split_index:]\n",
        "print(Y_test.shape)\n",
        "\n",
        "print(\"Training sequences:\", X_train.shape)\n",
        "print(\"Validation sequences:\", X_test.shape)"
      ],
      "metadata": {
        "colab": {
          "base_uri": "https://localhost:8080/"
        },
        "id": "DoJ5WTk4dCaT",
        "outputId": "1efd9820-88b8-430a-c788-1f0c133dc427"
      },
      "execution_count": null,
      "outputs": [
        {
          "output_type": "stream",
          "name": "stdout",
          "text": [
            "Total sequences created: 481075\n",
            "(96215, 1)\n",
            "Training sequences: (384860, 10, 34)\n",
            "Validation sequences: (96215, 10, 34)\n"
          ]
        }
      ]
    },
    {
      "cell_type": "code",
      "source": [
        "from pickle import FALSE\n",
        "# 7. Build the LSTM model.\n",
        "seq_length = 10\n",
        "n_features = X_train.shape[2]\n",
        "model = Sequential()\n",
        "model.add(LSTM(100, return_sequences=FALSE, input_shape=(seq_length, n_features)))\n",
        "#model.add(LSTM(100, activation='relu', return_sequences=FALSE, input_shape=(seq_length, n_features)))\n",
        "model.add(Dropout(0.2))\n",
        "model.add(LSTM(50))\n",
        "model.add(Dropout(0.2))\n",
        "model.add(Dense(10, activation='relu'))\n",
        "model.add(Dense(1))\n",
        "optimizer = Adam(learning_rate=0.001)\n",
        "model.compile(loss='mse', optimizer=optimizer)\n",
        "model.summary()\n",
        "\n",
        "# Train the model.\n",
        "epochs = 100\n",
        "batch_size = 32\n",
        "print(\"Training the model...\")\n",
        "# Early Stopping\n",
        "early_stopping = EarlyStopping(\n",
        "    monitor='val_loss',  # validate validation loss\n",
        "    patience=10,         # Stop if validation loss does not improve within 10 epochs\n",
        "    restore_best_weights=True  # Recover the weights of the best model\n",
        ")\n",
        "reduce_lr = ReduceLROnPlateau(monitor='val_loss', factor=0.2, patience=5, min_lr=0.0001)\n",
        "history = model.fit(X_train, Y_train, epochs=epochs, batch_size=batch_size,\n",
        "                    validation_data=(X_test, Y_test), verbose=1, callbacks=[reduce_lr, early_stopping])"
      ],
      "metadata": {
        "colab": {
          "base_uri": "https://localhost:8080/",
          "height": 442
        },
        "id": "eWzsKGUAjgCW",
        "outputId": "5dbcf2ff-0857-4f36-be86-dd393b1bbe47"
      },
      "execution_count": null,
      "outputs": [
        {
          "data": {
            "text/html": [
              "<pre style=\"white-space:pre;overflow-x:auto;line-height:normal;font-family:Menlo,'DejaVu Sans Mono',consolas,'Courier New',monospace\"><span style=\"font-weight: bold\">Model: \"sequential_2\"</span>\n",
              "</pre>\n"
            ],
            "text/plain": [
              "\u001b[1mModel: \"sequential_2\"\u001b[0m\n"
            ]
          },
          "metadata": {},
          "output_type": "display_data"
        },
        {
          "data": {
            "text/html": [
              "<pre style=\"white-space:pre;overflow-x:auto;line-height:normal;font-family:Menlo,'DejaVu Sans Mono',consolas,'Courier New',monospace\">┏━━━━━━━━━━━━━━━━━━━━━━━━━━━━━━━━━━━━━━┳━━━━━━━━━━━━━━━━━━━━━━━━━━━━━┳━━━━━━━━━━━━━━━━━┓\n",
              "┃<span style=\"font-weight: bold\"> Layer (type)                         </span>┃<span style=\"font-weight: bold\"> Output Shape                </span>┃<span style=\"font-weight: bold\">         Param # </span>┃\n",
              "┡━━━━━━━━━━━━━━━━━━━━━━━━━━━━━━━━━━━━━━╇━━━━━━━━━━━━━━━━━━━━━━━━━━━━━╇━━━━━━━━━━━━━━━━━┩\n",
              "│ lstm_4 (<span style=\"color: #0087ff; text-decoration-color: #0087ff\">LSTM</span>)                        │ (<span style=\"color: #00d7ff; text-decoration-color: #00d7ff\">None</span>, <span style=\"color: #00af00; text-decoration-color: #00af00\">10</span>, <span style=\"color: #00af00; text-decoration-color: #00af00\">100</span>)             │          <span style=\"color: #00af00; text-decoration-color: #00af00\">54,000</span> │\n",
              "├──────────────────────────────────────┼─────────────────────────────┼─────────────────┤\n",
              "│ dropout_4 (<span style=\"color: #0087ff; text-decoration-color: #0087ff\">Dropout</span>)                  │ (<span style=\"color: #00d7ff; text-decoration-color: #00d7ff\">None</span>, <span style=\"color: #00af00; text-decoration-color: #00af00\">10</span>, <span style=\"color: #00af00; text-decoration-color: #00af00\">100</span>)             │               <span style=\"color: #00af00; text-decoration-color: #00af00\">0</span> │\n",
              "├──────────────────────────────────────┼─────────────────────────────┼─────────────────┤\n",
              "│ lstm_5 (<span style=\"color: #0087ff; text-decoration-color: #0087ff\">LSTM</span>)                        │ (<span style=\"color: #00d7ff; text-decoration-color: #00d7ff\">None</span>, <span style=\"color: #00af00; text-decoration-color: #00af00\">50</span>)                  │          <span style=\"color: #00af00; text-decoration-color: #00af00\">30,200</span> │\n",
              "├──────────────────────────────────────┼─────────────────────────────┼─────────────────┤\n",
              "│ dropout_5 (<span style=\"color: #0087ff; text-decoration-color: #0087ff\">Dropout</span>)                  │ (<span style=\"color: #00d7ff; text-decoration-color: #00d7ff\">None</span>, <span style=\"color: #00af00; text-decoration-color: #00af00\">50</span>)                  │               <span style=\"color: #00af00; text-decoration-color: #00af00\">0</span> │\n",
              "├──────────────────────────────────────┼─────────────────────────────┼─────────────────┤\n",
              "│ dense_4 (<span style=\"color: #0087ff; text-decoration-color: #0087ff\">Dense</span>)                      │ (<span style=\"color: #00d7ff; text-decoration-color: #00d7ff\">None</span>, <span style=\"color: #00af00; text-decoration-color: #00af00\">64</span>)                  │           <span style=\"color: #00af00; text-decoration-color: #00af00\">3,264</span> │\n",
              "├──────────────────────────────────────┼─────────────────────────────┼─────────────────┤\n",
              "│ dense_5 (<span style=\"color: #0087ff; text-decoration-color: #0087ff\">Dense</span>)                      │ (<span style=\"color: #00d7ff; text-decoration-color: #00d7ff\">None</span>, <span style=\"color: #00af00; text-decoration-color: #00af00\">1</span>)                   │              <span style=\"color: #00af00; text-decoration-color: #00af00\">65</span> │\n",
              "└──────────────────────────────────────┴─────────────────────────────┴─────────────────┘\n",
              "</pre>\n"
            ],
            "text/plain": [
              "┏━━━━━━━━━━━━━━━━━━━━━━━━━━━━━━━━━━━━━━┳━━━━━━━━━━━━━━━━━━━━━━━━━━━━━┳━━━━━━━━━━━━━━━━━┓\n",
              "┃\u001b[1m \u001b[0m\u001b[1mLayer (type)                        \u001b[0m\u001b[1m \u001b[0m┃\u001b[1m \u001b[0m\u001b[1mOutput Shape               \u001b[0m\u001b[1m \u001b[0m┃\u001b[1m \u001b[0m\u001b[1m        Param #\u001b[0m\u001b[1m \u001b[0m┃\n",
              "┡━━━━━━━━━━━━━━━━━━━━━━━━━━━━━━━━━━━━━━╇━━━━━━━━━━━━━━━━━━━━━━━━━━━━━╇━━━━━━━━━━━━━━━━━┩\n",
              "│ lstm_4 (\u001b[38;5;33mLSTM\u001b[0m)                        │ (\u001b[38;5;45mNone\u001b[0m, \u001b[38;5;34m10\u001b[0m, \u001b[38;5;34m100\u001b[0m)             │          \u001b[38;5;34m54,000\u001b[0m │\n",
              "├──────────────────────────────────────┼─────────────────────────────┼─────────────────┤\n",
              "│ dropout_4 (\u001b[38;5;33mDropout\u001b[0m)                  │ (\u001b[38;5;45mNone\u001b[0m, \u001b[38;5;34m10\u001b[0m, \u001b[38;5;34m100\u001b[0m)             │               \u001b[38;5;34m0\u001b[0m │\n",
              "├──────────────────────────────────────┼─────────────────────────────┼─────────────────┤\n",
              "│ lstm_5 (\u001b[38;5;33mLSTM\u001b[0m)                        │ (\u001b[38;5;45mNone\u001b[0m, \u001b[38;5;34m50\u001b[0m)                  │          \u001b[38;5;34m30,200\u001b[0m │\n",
              "├──────────────────────────────────────┼─────────────────────────────┼─────────────────┤\n",
              "│ dropout_5 (\u001b[38;5;33mDropout\u001b[0m)                  │ (\u001b[38;5;45mNone\u001b[0m, \u001b[38;5;34m50\u001b[0m)                  │               \u001b[38;5;34m0\u001b[0m │\n",
              "├──────────────────────────────────────┼─────────────────────────────┼─────────────────┤\n",
              "│ dense_4 (\u001b[38;5;33mDense\u001b[0m)                      │ (\u001b[38;5;45mNone\u001b[0m, \u001b[38;5;34m64\u001b[0m)                  │           \u001b[38;5;34m3,264\u001b[0m │\n",
              "├──────────────────────────────────────┼─────────────────────────────┼─────────────────┤\n",
              "│ dense_5 (\u001b[38;5;33mDense\u001b[0m)                      │ (\u001b[38;5;45mNone\u001b[0m, \u001b[38;5;34m1\u001b[0m)                   │              \u001b[38;5;34m65\u001b[0m │\n",
              "└──────────────────────────────────────┴─────────────────────────────┴─────────────────┘\n"
            ]
          },
          "metadata": {},
          "output_type": "display_data"
        },
        {
          "data": {
            "text/html": [
              "<pre style=\"white-space:pre;overflow-x:auto;line-height:normal;font-family:Menlo,'DejaVu Sans Mono',consolas,'Courier New',monospace\"><span style=\"font-weight: bold\"> Total params: </span><span style=\"color: #00af00; text-decoration-color: #00af00\">87,529</span> (341.91 KB)\n",
              "</pre>\n"
            ],
            "text/plain": [
              "\u001b[1m Total params: \u001b[0m\u001b[38;5;34m87,529\u001b[0m (341.91 KB)\n"
            ]
          },
          "metadata": {},
          "output_type": "display_data"
        },
        {
          "data": {
            "text/html": [
              "<pre style=\"white-space:pre;overflow-x:auto;line-height:normal;font-family:Menlo,'DejaVu Sans Mono',consolas,'Courier New',monospace\"><span style=\"font-weight: bold\"> Trainable params: </span><span style=\"color: #00af00; text-decoration-color: #00af00\">87,529</span> (341.91 KB)\n",
              "</pre>\n"
            ],
            "text/plain": [
              "\u001b[1m Trainable params: \u001b[0m\u001b[38;5;34m87,529\u001b[0m (341.91 KB)\n"
            ]
          },
          "metadata": {},
          "output_type": "display_data"
        },
        {
          "data": {
            "text/html": [
              "<pre style=\"white-space:pre;overflow-x:auto;line-height:normal;font-family:Menlo,'DejaVu Sans Mono',consolas,'Courier New',monospace\"><span style=\"font-weight: bold\"> Non-trainable params: </span><span style=\"color: #00af00; text-decoration-color: #00af00\">0</span> (0.00 B)\n",
              "</pre>\n"
            ],
            "text/plain": [
              "\u001b[1m Non-trainable params: \u001b[0m\u001b[38;5;34m0\u001b[0m (0.00 B)\n"
            ]
          },
          "metadata": {},
          "output_type": "display_data"
        },
        {
          "output_type": "stream",
          "name": "stdout",
          "text": [
            "Training the model...\n",
            "Epoch 1/100\n",
            "\u001b[1m6014/6014\u001b[0m \u001b[32m━━━━━━━━━━━━━━━━━━━━\u001b[0m\u001b[37m\u001b[0m \u001b[1m339s\u001b[0m 56ms/step - loss: 0.0067 - val_loss: 0.0042 - learning_rate: 0.0010\n",
            "Epoch 2/100\n",
            "\u001b[1m6014/6014\u001b[0m \u001b[32m━━━━━━━━━━━━━━━━━━━━\u001b[0m\u001b[37m\u001b[0m \u001b[1m322s\u001b[0m 54ms/step - loss: 0.0020 - val_loss: 0.0021 - learning_rate: 0.0010\n",
            "Epoch 3/100\n",
            "\u001b[1m3564/6014\u001b[0m \u001b[32m━━━━━━━━━━━\u001b[0m\u001b[37m━━━━━━━━━\u001b[0m \u001b[1m1:59\u001b[0m 49ms/step - loss: 0.0019"
          ]
        }
      ]
    },
    {
      "cell_type": "code",
      "source": [
        "print(\"Predicting on the validation set...\")\n",
        "prediction=model.predict(X_test)\n",
        "print(\"\\nPrediction Shape-\",prediction.shape)\n",
        "\n",
        "print(\"Y_test shape:\", Y_test.shape)\n",
        "print(\"Current prediction shape:\", prediction.shape)"
      ],
      "metadata": {
        "colab": {
          "base_uri": "https://localhost:8080/"
        },
        "id": "swUL9U4elVn3",
        "outputId": "200aad26-3897-4629-eecf-488147e03a27"
      },
      "execution_count": null,
      "outputs": [
        {
          "output_type": "stream",
          "name": "stdout",
          "text": [
            "Predicting on the validation set...\n",
            "\u001b[1m3007/3007\u001b[0m \u001b[32m━━━━━━━━━━━━━━━━━━━━\u001b[0m\u001b[37m\u001b[0m \u001b[1m8s\u001b[0m 3ms/step\n",
            "\n",
            "Prediction Shape- (96213, 1)\n",
            "Y_test shape: (96213, 1)\n",
            "Current prediction shape: (96213, 1)\n"
          ]
        }
      ]
    },
    {
      "cell_type": "code",
      "source": [
        "print(prediction)"
      ],
      "metadata": {
        "colab": {
          "base_uri": "https://localhost:8080/"
        },
        "id": "cW_-DSIs6IyY",
        "outputId": "13228032-09c9-446b-c893-365377e5cf2a"
      },
      "execution_count": null,
      "outputs": [
        {
          "output_type": "stream",
          "name": "stdout",
          "text": [
            "[[0.03792499]\n",
            " [0.03683421]\n",
            " [0.03693129]\n",
            " ...\n",
            " [0.03039879]\n",
            " [0.03047985]\n",
            " [0.03073256]]\n"
          ]
        }
      ]
    },
    {
      "cell_type": "code",
      "source": [
        "y_pred = target_scaler.inverse_transform(prediction)\n",
        "print(y_pred)\n",
        "original = target_scaler.inverse_transform(Y_test)"
      ],
      "metadata": {
        "colab": {
          "base_uri": "https://localhost:8080/"
        },
        "id": "8WNL82z-lpHh",
        "outputId": "a112b735-26bc-4216-d871-ba94e8ea68c7"
      },
      "execution_count": null,
      "outputs": [
        {
          "output_type": "stream",
          "name": "stdout",
          "text": [
            "[[415.08173]\n",
            " [407.42883]\n",
            " [408.10992]\n",
            " ...\n",
            " [362.2779 ]\n",
            " [362.84662]\n",
            " [364.61963]]\n"
          ]
        }
      ]
    },
    {
      "cell_type": "code",
      "source": [
        "# 10. Compute RMSE.\n",
        "rmse = math.sqrt(mean_squared_error(original, y_pred))\n",
        "print(f\"RMSE on validation set: {rmse:.3f}\")"
      ],
      "metadata": {
        "colab": {
          "base_uri": "https://localhost:8080/"
        },
        "id": "Z9-2KMFCvSfQ",
        "outputId": "a1e6c0db-e7bf-4124-ce32-db8017f1524d"
      },
      "execution_count": null,
      "outputs": [
        {
          "output_type": "stream",
          "name": "stdout",
          "text": [
            "RMSE on validation set: 362.596\n"
          ]
        }
      ]
    },
    {
      "cell_type": "code",
      "source": [
        "import matplotlib.pyplot as plt\n",
        "\n",
        "plt.plot(history.history['loss'], label='Training Loss')\n",
        "plt.plot(history.history['val_loss'], label='Validation Loss')\n",
        "\n",
        "plt.title('Learning Curve')\n",
        "plt.xlabel('Epochs')\n",
        "plt.ylabel('Loss')\n",
        "plt.legend()\n",
        "\n",
        "plt.show()"
      ],
      "metadata": {
        "colab": {
          "base_uri": "https://localhost:8080/",
          "height": 472
        },
        "id": "Xrzck1xQIUJ7",
        "outputId": "cb1988fd-dfb1-4822-936c-80cfdad841ee"
      },
      "execution_count": null,
      "outputs": [
        {
          "output_type": "display_data",
          "data": {
            "text/plain": [
              "<Figure size 640x480 with 1 Axes>"
            ],
            "image/png": "[encoded data removed]"
          },
          "metadata": {}
        }
      ]
    },
    {
      "cell_type": "code",
      "source": [
        "# 11. Print out a few predictions alongside the actual values.\n",
        "print(\"\\nSample predictions vs actual values:\")\n",
        "for i in range(min(10, len(y_pred))):\n",
        "  print(f\"Prediction: {y_pred[i][0]:.3f} \\t Actual: {original[i][0]:.3f}\")"
      ],
      "metadata": {
        "colab": {
          "base_uri": "https://localhost:8080/"
        },
        "id": "diEL_MFQ5FMp",
        "outputId": "d11f5cd8-16be-4918-a577-3a37e977ae45"
      },
      "execution_count": null,
      "outputs": [
        {
          "output_type": "stream",
          "name": "stdout",
          "text": [
            "\n",
            "Sample predictions vs actual values:\n",
            "Prediction: 518.176 \t Actual: 397.000\n",
            "Prediction: 519.757 \t Actual: 397.000\n",
            "Prediction: 539.756 \t Actual: 397.000\n",
            "Prediction: 535.715 \t Actual: 397.000\n",
            "Prediction: 526.537 \t Actual: 397.000\n",
            "Prediction: 522.954 \t Actual: 397.000\n",
            "Prediction: 525.571 \t Actual: 397.000\n",
            "Prediction: 527.534 \t Actual: 397.000\n",
            "Prediction: 530.340 \t Actual: 397.000\n",
            "Prediction: 535.405 \t Actual: 397.000\n"
          ]
        }
      ]
    }
  ]
}